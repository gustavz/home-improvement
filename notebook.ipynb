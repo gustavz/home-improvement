{
 "cells": [
  {
   "cell_type": "code",
   "execution_count": 1,
   "metadata": {},
   "outputs": [],
   "source": [
    "%load_ext autoreload\n",
    "%autoreload 2"
   ]
  },
  {
   "cell_type": "code",
   "execution_count": 2,
   "metadata": {},
   "outputs": [
    {
     "name": "stderr",
     "output_type": "stream",
     "text": [
      "/Users/gustav.vonzitzewitz/.pyenv/versions/3.12.0/envs/py3.12/lib/python3.12/site-packages/tqdm/auto.py:21: TqdmWarning: IProgress not found. Please update jupyter and ipywidgets. See https://ipywidgets.readthedocs.io/en/stable/user_install.html\n",
      "  from .autonotebook import tqdm as notebook_tqdm\n"
     ]
    },
    {
     "name": "stdout",
     "output_type": "stream",
     "text": [
      "> Executing tool 'search_web' with arguments {'query': 'Jules Verne biography'}'\n",
      "> Tool result: {'query': 'Jules Verne biography', 'results': [], 'success': False, 'error': \"_text_extract_json() keywords='Jules Verne biography' ValueError: subsection not found\"}\n",
      "> Executing tool 'search_web' with arguments {'query': 'Machine learning overview'}'\n",
      "> Tool result: {'query': 'Machine learning overview', 'results': [], 'success': False, 'error': 'https://links.duckduckgo.com/d.js?q=Machine+learning+overview&kl=wt-wt&l=wt-wt&p=&s=0&df=&vqd=4-117813872181841144913409976999689857933&bing_market=wt-WT&ex=-2 202 Ratelimit'}\n",
      "> Executing tool 'search_web' with arguments {'query': 'Jules Verne biography'}'\n",
      "> Tool result: {'query': 'Jules Verne biography', 'results': [], 'success': False, 'error': \"_text_extract_json() keywords='Jules Verne biography' ValueError: subsection not found\"}\n",
      "> Executing tool 'search_web' with arguments {'query': 'Machine learning overview'}'\n",
      "> Tool result: {'query': 'Machine learning overview', 'results': [], 'success': False, 'error': 'https://links.duckduckgo.com/d.js?q=Machine+learning+overview&kl=wt-wt&l=wt-wt&p=&s=0&df=&vqd=4-117813872181841144913409976999689857933&bing_market=wt-WT&ex=-2 202 Ratelimit'}\n",
      "> Executing tool 'search_web' with arguments {'query': 'Jules Verne biography'}'\n",
      "> Tool result: {'query': 'Jules Verne biography', 'results': [], 'success': False, 'error': 'https://links.duckduckgo.com/d.js?q=Jules+Verne+biography&kl=wt-wt&l=wt-wt&p=&s=0&df=&vqd=4-142609833357017187858672836553823396602&bing_market=wt-WT&ex=-2 202 Ratelimit'}\n",
      "> Executing tool 'search_web' with arguments {'query': 'Machine learning introduction'}'\n",
      "> Tool result: {'query': 'Machine learning introduction', 'results': [], 'success': False, 'error': 'https://duckduckgo.com/?q=Machine+learning+introduction 202 Ratelimit'}\n",
      "> Assistant's Response:\n",
      "It seems that I'm currently unable to retrieve information from the web about Jules Verne and Machine Learning due to some technical limitations. However, I can provide a brief overview based on what I know up to October 2023.\n",
      "\n",
      "### Jules Verne\n",
      "Jules Verne (1828-1905) was a French novelist, poet, and playwright who is often hailed as one of the pioneers of science fiction. His most famous works include:\n",
      "\n",
      "- **\"Twenty Thousand Leagues Under the Sea\"**: A story of the adventures of Captain Nemo and his submarine, the Nautilus.\n",
      "- **\"Journey to the Center of the Earth\"**: In this novel, a professor and his companions embark on an expedition beneath the Earth's surface.\n",
      "- **\"Around the World in Eighty Days\"**: The story follows Phileas Fogg, who attempts to circumnavigate the globe in 80 days.\n",
      "\n",
      "Verne's works are characterized by their imaginative and visionary descriptions of advanced technology and exploration, often anticipating future inventions such as submarines, space travel, and air travel.\n",
      "\n",
      "### Machine Learning\n",
      "Machine learning is a subset of artificial intelligence (AI) that involves the development of algorithms and statistical models that enable computers to perform tasks without explicit instructions, relying instead on patterns and inference. Key concepts in machine learning include:\n",
      "\n",
      "- **Supervised Learning**: The model is trained on labeled data, meaning that the input data is matched with the correct output.\n",
      "- **Unsupervised Learning**: The model tries to learn patterns from unlabeled data without explicit instructions on what to predict.\n",
      "- **Reinforcement Learning**: The model learns to make decisions by receiving rewards or penalties based on its actions.\n",
      "\n",
      "Machine learning is used in various applications such as speech recognition, image analysis, recommendation systems, and autonomous vehicles.\n",
      "\n",
      "If you would like to know more about either topic or have specific questions, feel free to ask!\n",
      "> Assistant's Response:\n",
      "The relationship between Jules Verne's works and machine learning can be explored in several interesting ways:\n",
      "\n",
      "### 1. **Speculation and Visionary Concepts**\n",
      "- **Foresight in Technology**: Jules Verne was known for his visionary ideas and speculative fiction, often predicting technological advancements before they became a reality. For example, he imagined submarines, space travel, and advanced communication methods. This speculative nature is also at the core of machine learning, where researchers often envision new applications and capabilities that could emerge from current technologies.\n",
      "\n",
      "### 2. **Creative Problem Solving**\n",
      "- **Narrative and Algorithms**: Just as Verne's characters often face complex problems that require innovative solutions (like navigating through the ocean or journeys into the unknown), machine learning involves creating algorithms that must solve complex real-world problems. This creates parallels in the way both fields approach problem solving—whether through storytelling or mathematical models.\n",
      "\n",
      "### 3. **Exploration of Human Intelligence**\n",
      "- **Human vs. Machine**: Many of Verne's stories explore themes of human ingenuity, exploration, and the potential consequences of technological advancements. Machine learning seeks to mimic certain aspects of human intelligence, prompting questions about what it means to be intelligent and how machines might one day replicate human-like reasoning and decision-making.\n",
      "\n",
      "### 4. **Ethical Considerations**\n",
      "- **Science Fiction and AI Ethics**: Verne’s narratives often contain ethical considerations regarding technology and its impact on society. Similarly, the rise of machine learning and AI raises important ethical questions about data privacy, decision-making fairness, and the social implications of relying on automated systems.\n",
      "\n",
      "### 5. **Inspiration for Future Technologies**\n",
      "- **Influence on AI and Robotics**: Verne's imaginative literature has inspired generations of scientists, inventors, and engineers. The concepts he explored have motivated advancements in various fields, including robotics and AI, where machine learning plays a crucial role.\n",
      "\n",
      "Overall, while Jules Verne and machine learning belong to different realms—literary fiction and technological development respectively—they both engage with ideas of exploration, innovation, and the future, making their relationship rich with potential insights and reflections on the human experience.\n"
     ]
    }
   ],
   "source": [
    "from backend.handlers import handle_user_query\n",
    "\n",
    "\n",
    "user_query = \"Tell me about Jules Verne and Machine learning\"\n",
    "messages = handle_user_query(user_query)\n",
    "user_query = \"How do the two relate?\"\n",
    "messages = handle_user_query(user_query, messages)"
   ]
  },
  {
   "cell_type": "code",
   "execution_count": 3,
   "metadata": {},
   "outputs": [
    {
     "name": "stdout",
     "output_type": "stream",
     "text": [
      "> Executing tool 'browse_web' with arguments {'url': 'https://ednetz.de'}'\n",
      "> Tool result: {'url': 'https://ednetz.de', 'content': '<!DOCTYPE html><html><head><meta charSet=\"utf-8\"/><meta name=\"viewport\" content=\"width=device-width\"/><title>ednetz-Community - ednetz.de</title><meta name=\"description\" content=\"Von 2004 an mauserte sich ednetz vor allem in den Landkreisen Erding und Mühldorf zu dem Social Network im Münchner Osten. Ein Blick zurück.\"/><link rel=\"apple-touch-icon\" sizes=\"180x180\" href=\"/apple-touch-icon.png\"/><link rel=\"icon\" type=\"image/png\" sizes=\"32x32\" href=\"/favicon-32x32.png\"/><link rel=\"icon\" type=\"image/png\" sizes=\"16x16\" href=\"/favicon-16x16.png\"/><link rel=\"manifest\" href=\"/site.webmanifest\"/><link rel=\"mask-icon\" href=\"/safari-pinned-tab.svg\" color=\"#ec6726\"/><meta name=\"msapplication-TileColor\" content=\"#ec6726\"/><meta name=\"theme-color\" content=\"#ffffff\"/><meta name=\"next-head-count\" content=\"11\"/><link rel=\"preload\" href=\"/_next/static/css/002bffa313fb981a.css\" as=\"style\"/><link rel=\"stylesheet\" href=\"/_next/static/css/002bffa313fb981a.css\" data-n-g=\"\"/><noscript data-n-css=\"\"></noscript><script defer=\"\" nomodule=\"\" src=\"/_next/static/chunks/polyfills-c67a75d1b6f99dc8.js\"></script><script src=\"/_next/static/chunks/webpack-7ee66019f7f6d30f.js\" defer=\"\"></script><script src=\"/_next/static/chunks/framework-db825bd0b4ae01ef.js\" defer=\"\"></script><script src=\"/_next/static/chunks/main-5d26a0d37097d34c.js\" defer=\"\"></script><script src=\"/_next/static/chunks/pages/_app-deb173bd80cbaa92.js\" defer=\"\"></script><script src=\"/_next/static/chunks/388-cfbbcbb4f4b73cc7.js\" defer=\"\"></script><script src=\"/_next/static/chunks/pages/index-fbdbc0ece7d403c3.js\" defer=\"\"></script><script src=\"/_next/static/UacW4sipx-5TtJ0s4Yp26/_buildManifest.js\" defer=\"\"></script><script src=\"/_next/static/UacW4sipx-5TtJ0s4Yp26/_ssgManifest.js\" defer=\"\"></script></head><body><div id=\"__next\"><div><main><div class=\"container max-w-4xl mx-auto px-4 lg:px-0 text-gray-800 dark:text-gray-200\"><h1><span class=\"text-orange-500\">ed</span>netz Community</h1><p class=\"mb-4 text-base font-light md:text-lg max-w-prose\">Viele Programmierstunden, Diskussionen, Tests und Know-How flossen in die Entwicklung des Online-Portals. Bis zu 70.000 Nutzer, viele Tausend davon zeitgleich online – Schreiben, Austauschen, Darstellen. ednetz wurde auf viele Weisen genutzt: ob als SMS-Ersatz, um sich mit Freunden zu verabreden, neue Bekanntschaften kennen zu lernen oder die Partyfotos der letzten Veranstaltung anzuschauen.</p><blockquote class=\"text-xl italic font-semibold text-gray-900 dark:text-white my-12\"><svg aria-hidden=\"true\" class=\"w-10 h-10 text-gray-400 dark:text-gray-600\" viewBox=\"0 0 24 27\" fill=\"none\" xmlns=\"http://www.w3.org/2000/svg\"><path d=\"M14.017 18L14.017 10.609C14.017 4.905 17.748 1.039 23 0L23.995 2.151C21.563 3.068 20 5.789 20 8H24V18H14.017ZM0 18V10.609C0 4.905 3.748 1.038 9 0L9.996 2.151C7.563 3.068 6 5.789 6 8H9.983L9.983 18L0 18Z\" fill=\"currentColor\"></path></svg><p>Wenn’s wichtig ist, steht’s auf ednetz</p></blockquote><p>… von 2004 an mauserte sich die damalige Seite als Online-Community vor allem in den Landkreisen Erding und Mühldorf zu dem Social Network im Münchner Osten. Zahlreiche Teammitglieder arbeiteten hierfür größtenteils ehrenamtlich mit und wurden zu bekannten Gesichtern im Landkreis.</p><p>Wir werfen einen Blick zurück, zeigen alte Versionen und die Entwicklung der ednetz-Community.</p><div class=\"md:grid md:grid-cols-2 md:gap-8 mt-8 mb-4\"><figure class=\"w-full mb-4 md:mb-0\"><div class=\"aspect-video overflow-hidden\"><img alt=\"ednetz Startseite von 2009\" srcSet=\"/_next/image?url=%2F_next%2Fstatic%2Fmedia%2Fednetz-version3.33f9bb98.png&amp;w=1080&amp;q=75 1x, /_next/image?url=%2F_next%2Fstatic%2Fmedia%2Fednetz-version3.33f9bb98.png&amp;w=2048&amp;q=75 2x\" src=\"/_next/image?url=%2F_next%2Fstatic%2Fmedia%2Fednetz-version3.33f9bb98.png&amp;w=2048&amp;q=75\" width=\"999\" height=\"953\" decoding=\"async\" data-nimg=\"future\" class=\"object-cover\" loading=\"lazy\" style=\"color:transparent\"/></div><figcaption class=\"text-sm mt-4\">Version 3 (2009)</figcaption></figure><figure class=\"w-full mb-4 md:mb-0\"><div class=\"aspect-video overflow-hidden\"><img alt=\"ednetz Startseite von 2007\" srcSet=\"/_next/image?url=%2F_next%2Fstatic%2Fmedia%2Fednetz-startseite-20071.36ac743e.jpeg&amp;w=1200&amp;q=75 1x, /_next/image?url=%2F_next%2Fstatic%2Fmedia%2Fednetz-startseite-20071.36ac743e.jpeg&amp;w=3840&amp;q=75 2x\" src=\"/_next/image?url=%2F_next%2Fstatic%2Fmedia%2Fednetz-startseite-20071.36ac743e.jpeg&amp;w=3840&amp;q=75\" width=\"1088\" height=\"649\" decoding=\"async\" data-nimg=\"future\" class=\"object-cover\" loading=\"lazy\" style=\"color:transparent\"/></div><figcaption class=\"text-sm mt-4\">Version 2.5 (2007)</figcaption></figure><figure class=\"w-full mb-4 md:mb-0\"><div class=\"aspect-video overflow-hidden\"><img alt=\"ednetz Startseite von 2005\" srcSet=\"/_next/image?url=%2F_next%2Fstatic%2Fmedia%2Fednetz-screenshot-20051.08ed5c05.jpeg&amp;w=1080&amp;q=75 1x, /_next/image?url=%2F_next%2Fstatic%2Fmedia%2Fednetz-screenshot-20051.08ed5c05.jpeg&amp;w=2048&amp;q=75 2x\" src=\"/_next/image?url=%2F_next%2Fstatic%2Fmedia%2Fednetz-screenshot-20051.08ed5c05.jpeg&amp;w=2048&amp;q=75\" width=\"994\" height=\"833\" decoding=\"async\" data-nimg=\"future\" class=\"object-cover\" loading=\"lazy\" style=\"color:transparent\"/></div><figcaption class=\"text-sm mt-4\">Version 2 (2005)</figcaption></figure><figure class=\"w-full\"><div class=\"aspect-video overflow-hidden\"><img alt=\"ednetz Startseite von 2004\" srcSet=\"/_next/image?url=%2F_next%2Fstatic%2Fmedia%2Fednetz-screenshot-2004.e96ab8b2.jpeg&amp;w=1080&amp;q=75 1x, /_next/image?url=%2F_next%2Fstatic%2Fmedia%2Fednetz-screenshot-2004.e96ab8b2.jpeg&amp;w=1920&amp;q=75 2x\" src=\"/_next/image?url=%2F_next%2Fstatic%2Fmedia%2Fednetz-screenshot-2004.e96ab8b2.jpeg&amp;w=1920&amp;q=75\" width=\"902\" height=\"369\" decoding=\"async\" data-nimg=\"future\" class=\"object-cover\" loading=\"lazy\" style=\"color:transparent\"/></div><figcaption class=\"text-sm mt-4\">Version 1 (2004)</figcaption></figure></div></div><div class=\"bg-slate-200 dark:bg-slate-600 text-gray-800 dark:text-gray-200 my-8 py-8\"><div class=\"container max-w-4xl flex justify-center mx-auto\"><figure class=\"text-center\"><img alt=\"ednetz im Wandel der Zeit\" srcSet=\"/_next/image?url=%2F_next%2Fstatic%2Fmedia%2Fednetz-versionen.b0519cd6.png&amp;w=640&amp;q=75 1x, /_next/image?url=%2F_next%2Fstatic%2Fmedia%2Fednetz-versionen.b0519cd6.png&amp;w=1200&amp;q=75 2x\" src=\"/_next/image?url=%2F_next%2Fstatic%2Fmedia%2Fednetz-versionen.b0519cd6.png&amp;w=1200&amp;q=75\" width=\"600\" height=\"240\" decoding=\"async\" data-nimg=\"future\" loading=\"lazy\" style=\"color:transparent\"/><figcaption class=\"text-sm\">ednetz im Wandel der Zeit</figcaption></figure></div></div><div class=\"container max-w-4xl mx-auto px-4 lg:px-0 text-gray-800 dark:text-gray-200\"><h2>Rekorde</h2><figure class=\"mb-8\"><img alt=\"ednetz Team 2009\" srcSet=\"/_next/image?url=%2F_next%2Fstatic%2Fmedia%2Fteam.a46cc517.jpg&amp;w=750&amp;q=75 1x, /_next/image?url=%2F_next%2Fstatic%2Fmedia%2Fteam.a46cc517.jpg&amp;w=1920&amp;q=75 2x\" src=\"/_next/image?url=%2F_next%2Fstatic%2Fmedia%2Fteam.a46cc517.jpg&amp;w=1920&amp;q=75\" width=\"673\" height=\"290\" decoding=\"async\" data-nimg=\"future\" loading=\"lazy\" style=\"color:transparent\"/><figcaption class=\"text-sm\">Unser ednetz-Team 2009</figcaption></figure><p class=\"mb-4 text-base font-light md:text-lg max-w-prose\">Einige Zahlen zu den Hochzeiten von ednetz (2005-2008)</p><ul class=\"list-disc list-outside text-base font-light md:text-lg max-w-prose mb-4 pl-4\"><li>Bis zu <strong>70.000 Nutzer</strong> (Messung von aktiven Profilen, die mind. einmal im Monat genutzt wurden)</li><li>Bis zu <strong>5.000 User</strong> gleichzeitig online – überwiegend aus den Landkreisen Erding und Mühldorf</li><li>65 Millionen Seitenaufrufe pro Monat von über 250.000 eindeutigen Besuchern im April 2008 (Google Analytics)</li></ul><p class=\"text-base font-light md:text-lg max-w-prose mt-12 mb-4\">Aber es gab auch andere Zahlen, die für ordentlich Arbeit sorgten</p><ul class=\"list-disc list-outside text-base font-light md:text-lg max-w-prose mb-4 pl-4\"><li>100 Service-Anfragen zu Passwörtern, Neuregistrierungen, Geburtstagsänderungen und Co. am Tag</li><li>Durchschnittlich 50 Verstoßmeldungen am Tag – von Beleidigung und Rufmord über Hetze bis hin zu Bedrohungen, die dann als Anzeigen bei der Polizei landeten</li><li>10 Löschungen von Profilen (Bannen) wegen Fake-Account, Doppelanmeldung oder einem anderen Verstoß gegen die Nutzungsbedingungen</li></ul><p class=\"text-base font-light md:text-lg max-w-prose mt-8\">Verglichen mit der Gesamtaktivität sind diese Zahlen jedoch mehr als vorzeigbar. Statistisch gesehen mussten bei weit weniger als einem Prozent der aktiven Nutzer Maßnahmen wie Sperrung oder Löschung ergriffen werden.</p></div><div class=\"container max-w-4xl mx-auto px-4 lg:px-0 text-gray-800 dark:text-gray-200\" id=\"erinnerung\"><h2>Erinnerung</h2><div class=\"md:flex\"><div class=\"md:w-1/4\"><figure class=\"mb-8\"><img alt=\"Ferdinand Klein\" srcSet=\"/_next/image?url=%2F_next%2Fstatic%2Fmedia%2Fferdi.24e7bdd7.jpg&amp;w=256&amp;q=75 1x, /_next/image?url=%2F_next%2Fstatic%2Fmedia%2Fferdi.24e7bdd7.jpg&amp;w=384&amp;q=75 2x\" src=\"/_next/image?url=%2F_next%2Fstatic%2Fmedia%2Fferdi.24e7bdd7.jpg&amp;w=384&amp;q=75\" width=\"150\" height=\"200\" decoding=\"async\" data-nimg=\"future\" loading=\"lazy\" style=\"color:transparent\"/><figcaption class=\"text-sm\">Ferdinand „Ferdi“ Klein</figcaption></figure></div><div class=\"md:w-3/4\"><p class=\"text-base font-light md:text-lg max-w-prose mt-12 mb-4\">Sebastian „Sebi“ Blum hat ednetz 2004 zusammen mit Ferdinand „Ferdi“ Klein gegründet und aufgebaut.<br/>Leider ist Ferdi bereits im Alter von nur 32 Jahren im Mai 2013 verstorben.</p><p><b>Ein Abschied, aber kein Vergessen.</b></p></div></div></div></main><footer class=\"container max-w-4xl p-4 bg-white rounded-lg shadow md:flex md:items-center md:justify-between md:p-6 dark:bg-slate-600 mx-auto mt-16 mb-8\"><span class=\"text-sm text-gray-500 sm:text-center dark:text-gray-400\">Mit ❤️ gemacht von <a href=\"https://www.sblum.de/\">sblum</a></span><ul class=\"flex flex-wrap items-center mt-3 text-sm text-gray-500 dark:text-gray-400 sm:mt-0\"><li><a href=\"/datenschutz\" class=\"mr-4 hover:underline md:mr-6\">Datenschutz</a></li><li><a href=\"/impressum\" class=\"mr-4 hover:underline md:mr-6\">Impressum</a></li></ul></footer></div></div><script id=\"__NEXT_DATA__\" type=\"application/json\">{\"props\":{\"pageProps\":{}},\"page\":\"/\",\"query\":{},\"buildId\":\"UacW4sipx-5TtJ0s4Yp26\",\"nextExport\":true,\"autoExport\":true,\"isFallback\":false,\"scriptLoader\":[]}</script></body></html>', 'status_code': 200, 'success': True}\n",
      "> Assistant's Response:\n",
      "The website ednetz.de is focused on the \"ednetz Community,\" which developed as an online social network primarily in the districts of Erding and Mühldorf in the Munich area, starting from 2004. The platform has evolved significantly over the years, aiming to serve as a social networking portal where users can communicate, make plans with friends, meet new people, and share event photos.\n",
      "\n",
      "Key points about ednetz.de include:\n",
      "\n",
      "- **Community Development**: The site has undergone many programming hours and discussions to develop its online presence.\n",
      "- **User Engagement**: At its peak, ednetz had around 70,000 users, with thousands online simultaneously. It served various purposes such as an SMS replacement and a venue for social interactions.\n",
      "- **Historical Perspective**: The website features a retrospective look at its evolution, showing different versions of the platform over the years and celebrating its community.\n",
      "- **Notable Statistics**: At one point, it recorded 5,000 concurrent users and 65 million page views per month.\n",
      "- **Memorial Tribute**: The site acknowledges the founders, including Ferdinand \"Ferdi\" Klein, who passed away at a young age.\n",
      "\n",
      "Overall, ednetz.de serves as a nostalgic recall of a vibrant community that once played a significant role in local social networking within its region.\n"
     ]
    }
   ],
   "source": [
    "from backend.handlers import handle_user_query\n",
    "\n",
    "user_query = \"what is ednetz.de about?\"\n",
    "messages = handle_user_query(user_query)"
   ]
  },
  {
   "cell_type": "code",
   "execution_count": null,
   "metadata": {},
   "outputs": [],
   "source": []
  }
 ],
 "metadata": {
  "kernelspec": {
   "display_name": "py3.12",
   "language": "python",
   "name": "python3"
  },
  "language_info": {
   "codemirror_mode": {
    "name": "ipython",
    "version": 3
   },
   "file_extension": ".py",
   "mimetype": "text/x-python",
   "name": "python",
   "nbconvert_exporter": "python",
   "pygments_lexer": "ipython3",
   "version": "3.12.0"
  }
 },
 "nbformat": 4,
 "nbformat_minor": 2
}
